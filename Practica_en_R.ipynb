{
  "nbformat": 4,
  "nbformat_minor": 0,
  "metadata": {
    "colab": {
      "name": "Practica en R",
      "provenance": [],
      "collapsed_sections": [],
      "authorship_tag": "ABX9TyNU+/sD2RJvDJuVLXiCr3yK",
      "include_colab_link": true
    },
    "kernelspec": {
      "name": "ir",
      "display_name": "R"
    },
    "language_info": {
      "name": "R"
    }
  },
  "cells": [
    {
      "cell_type": "markdown",
      "metadata": {
        "id": "view-in-github",
        "colab_type": "text"
      },
      "source": [
        "<a href=\"https://colab.research.google.com/github/kory1395/practicaR/blob/main/Practica_en_R.ipynb\" target=\"_parent\"><img src=\"https://colab.research.google.com/assets/colab-badge.svg\" alt=\"Open In Colab\"/></a>"
      ]
    },
    {
      "cell_type": "code",
      "metadata": {
        "id": "bGPHyiJzWMgI"
      },
      "source": [
        "#Introduccion al R"
      ],
      "execution_count": null,
      "outputs": []
    },
    {
      "cell_type": "markdown",
      "metadata": {
        "id": "CUcImCW1bxOB"
      },
      "source": [
        ""
      ]
    },
    {
      "cell_type": "markdown",
      "metadata": {
        "id": "OIH6EWMrbgqe"
      },
      "source": [
        "# Introduccion al R"
      ]
    },
    {
      "cell_type": "code",
      "metadata": {
        "colab": {
          "base_uri": "https://localhost:8080/",
          "height": 34
        },
        "id": "u2upbhTWb-l5",
        "outputId": "bd0ccfda-28f1-4d6b-d95d-e744c514cf86"
      },
      "source": [
        "2+5"
      ],
      "execution_count": null,
      "outputs": [
        {
          "output_type": "display_data",
          "data": {
            "text/plain": [
              "[1] 7"
            ],
            "text/latex": "7",
            "text/markdown": "7",
            "text/html": [
              "7"
            ]
          },
          "metadata": {
            "tags": []
          }
        }
      ]
    },
    {
      "cell_type": "markdown",
      "metadata": {
        "id": "G6n6hdo-eiLS"
      },
      "source": [
        "Objetos en R"
      ]
    },
    {
      "cell_type": "code",
      "metadata": {
        "id": "vy6HMI4-cAcJ"
      },
      "source": [
        "#Dato\n",
        "a<-9\n",
        "b<-8\n",
        "c<--3\n",
        "nombre<-'Ingrid'"
      ],
      "execution_count": 40,
      "outputs": []
    },
    {
      "cell_type": "code",
      "metadata": {
        "colab": {
          "base_uri": "https://localhost:8080/",
          "height": 34
        },
        "id": "bMswIVXkXMiT",
        "outputId": "d07406e3-0882-4ec9-ec36-8efb9d38794a"
      },
      "source": [
        "a+b+c"
      ],
      "execution_count": 41,
      "outputs": [
        {
          "output_type": "display_data",
          "data": {
            "text/plain": [
              "[1] 14"
            ],
            "text/latex": "14",
            "text/markdown": "14",
            "text/html": [
              "14"
            ]
          },
          "metadata": {
            "tags": []
          }
        }
      ]
    },
    {
      "cell_type": "code",
      "metadata": {
        "colab": {
          "base_uri": "https://localhost:8080/",
          "height": 34
        },
        "id": "wCYgMIb-XXEf",
        "outputId": "c872af7e-14af-4dd9-8643-44b9fe7f0d49"
      },
      "source": [
        "a*b/c"
      ],
      "execution_count": 42,
      "outputs": [
        {
          "output_type": "display_data",
          "data": {
            "text/plain": [
              "[1] -24"
            ],
            "text/latex": "-24",
            "text/markdown": "-24",
            "text/html": [
              "-24"
            ]
          },
          "metadata": {
            "tags": []
          }
        }
      ]
    },
    {
      "cell_type": "code",
      "metadata": {
        "id": "RKOC4j9wfzeO",
        "colab": {
          "base_uri": "https://localhost:8080/",
          "height": 51
        },
        "outputId": "8d8e8be9-bf85-4e80-d17a-7c99c6fb8d8a"
      },
      "source": [
        "a^2\n",
        "log10(b)\n"
      ],
      "execution_count": null,
      "outputs": [
        {
          "output_type": "display_data",
          "data": {
            "text/plain": [
              "[1] 81"
            ],
            "text/latex": "81",
            "text/markdown": "81",
            "text/html": [
              "81"
            ]
          },
          "metadata": {
            "tags": []
          }
        },
        {
          "output_type": "display_data",
          "data": {
            "text/plain": [
              "[1] 0.90309"
            ],
            "text/latex": "0.903089986991944",
            "text/markdown": "0.903089986991944",
            "text/html": [
              "0.903089986991944"
            ]
          },
          "metadata": {
            "tags": []
          }
        }
      ]
    },
    {
      "cell_type": "code",
      "metadata": {
        "colab": {
          "base_uri": "https://localhost:8080/",
          "height": 34
        },
        "id": "i3VkQsSEDMir",
        "outputId": "e23ff388-34e2-4283-f645-c77bd90094c6"
      },
      "source": [
        "#Vector\n",
        "edad<-c(33,32,38,40,38,25,40,32,42,29)\n",
        "#edad\n",
        "sum(edad)"
      ],
      "execution_count": null,
      "outputs": [
        {
          "output_type": "display_data",
          "data": {
            "text/plain": [
              "[1] 349"
            ],
            "text/latex": "349",
            "text/markdown": "349",
            "text/html": [
              "349"
            ]
          },
          "metadata": {
            "tags": []
          }
        }
      ]
    },
    {
      "cell_type": "code",
      "metadata": {
        "id": "nus_Mt1baOau",
        "colab": {
          "base_uri": "https://localhost:8080/"
        },
        "outputId": "2d0353cb-af02-46c7-8d8b-14e6ebb76239"
      },
      "source": [
        "v1<-c('f','f','f','m','m')\n",
        "str(v1)\n",
        "v2<-factor(c('f','f','f','m','m'))\n",
        "str(v2)"
      ],
      "execution_count": 43,
      "outputs": [
        {
          "output_type": "stream",
          "text": [
            " chr [1:5] \"f\" \"f\" \"f\" \"m\" \"m\"\n",
            " Factor w/ 2 levels \"f\",\"m\": 1 1 1 2 2\n"
          ],
          "name": "stdout"
        }
      ]
    },
    {
      "cell_type": "code",
      "metadata": {
        "id": "cEz-UrvVaSfE",
        "colab": {
          "base_uri": "https://localhost:8080/"
        },
        "outputId": "4e017977-5611-4aba-9ea8-d372229b7f29"
      },
      "source": [
        "x1<-c(1:10)\n",
        "#x1\n",
        "x2<-c(rep(8,10))\n",
        "#x2\n",
        "x3<-letters[1:10]\n",
        "#x3\n",
        "#Combinar vectores para formar una matriz\n",
        "m1<-cbind(x1,x2,x3)\n",
        "str(m1)"
      ],
      "execution_count": 9,
      "outputs": [
        {
          "output_type": "stream",
          "text": [
            " chr [1:10, 1:3] \"1\" \"2\" \"3\" \"4\" \"5\" \"6\" \"7\" \"8\" \"9\" \"10\" \"8\" \"8\" \"8\" \"8\" ...\n",
            " - attr(*, \"dimnames\")=List of 2\n",
            "  ..$ : NULL\n",
            "  ..$ : chr [1:3] \"x1\" \"x2\" \"x3\"\n"
          ],
          "name": "stdout"
        }
      ]
    },
    {
      "cell_type": "code",
      "metadata": {
        "id": "1R_Z9PMpaVRu",
        "colab": {
          "base_uri": "https://localhost:8080/",
          "height": 475
        },
        "outputId": "be280025-3564-4857-ac03-624c41692d2b"
      },
      "source": [
        "m2<-data.frame(x1,x2,x3)\n",
        "m2\n",
        "str(m2)"
      ],
      "execution_count": 17,
      "outputs": [
        {
          "output_type": "display_data",
          "data": {
            "text/plain": [
              "   x1 x2 x3\n",
              "1   1 8  a \n",
              "2   2 8  b \n",
              "3   3 8  c \n",
              "4   4 8  d \n",
              "5   5 8  e \n",
              "6   6 8  f \n",
              "7   7 8  g \n",
              "8   8 8  h \n",
              "9   9 8  i \n",
              "10 10 8  j "
            ],
            "text/latex": "A data.frame: 10 × 3\n\\begin{tabular}{lll}\n x1 & x2 & x3\\\\\n <int> & <dbl> & <chr>\\\\\n\\hline\n\t  1 & 8 & a\\\\\n\t  2 & 8 & b\\\\\n\t  3 & 8 & c\\\\\n\t  4 & 8 & d\\\\\n\t  5 & 8 & e\\\\\n\t  6 & 8 & f\\\\\n\t  7 & 8 & g\\\\\n\t  8 & 8 & h\\\\\n\t  9 & 8 & i\\\\\n\t 10 & 8 & j\\\\\n\\end{tabular}\n",
            "text/markdown": "\nA data.frame: 10 × 3\n\n| x1 &lt;int&gt; | x2 &lt;dbl&gt; | x3 &lt;chr&gt; |\n|---|---|---|\n|  1 | 8 | a |\n|  2 | 8 | b |\n|  3 | 8 | c |\n|  4 | 8 | d |\n|  5 | 8 | e |\n|  6 | 8 | f |\n|  7 | 8 | g |\n|  8 | 8 | h |\n|  9 | 8 | i |\n| 10 | 8 | j |\n\n",
            "text/html": [
              "<table class=\"dataframe\">\n",
              "<caption>A data.frame: 10 × 3</caption>\n",
              "<thead>\n",
              "\t<tr><th scope=col>x1</th><th scope=col>x2</th><th scope=col>x3</th></tr>\n",
              "\t<tr><th scope=col>&lt;int&gt;</th><th scope=col>&lt;dbl&gt;</th><th scope=col>&lt;chr&gt;</th></tr>\n",
              "</thead>\n",
              "<tbody>\n",
              "\t<tr><td> 1</td><td>8</td><td>a</td></tr>\n",
              "\t<tr><td> 2</td><td>8</td><td>b</td></tr>\n",
              "\t<tr><td> 3</td><td>8</td><td>c</td></tr>\n",
              "\t<tr><td> 4</td><td>8</td><td>d</td></tr>\n",
              "\t<tr><td> 5</td><td>8</td><td>e</td></tr>\n",
              "\t<tr><td> 6</td><td>8</td><td>f</td></tr>\n",
              "\t<tr><td> 7</td><td>8</td><td>g</td></tr>\n",
              "\t<tr><td> 8</td><td>8</td><td>h</td></tr>\n",
              "\t<tr><td> 9</td><td>8</td><td>i</td></tr>\n",
              "\t<tr><td>10</td><td>8</td><td>j</td></tr>\n",
              "</tbody>\n",
              "</table>\n"
            ]
          },
          "metadata": {
            "tags": []
          }
        },
        {
          "output_type": "stream",
          "text": [
            "'data.frame':\t10 obs. of  3 variables:\n",
            " $ x1: int  1 2 3 4 5 6 7 8 9 10\n",
            " $ x2: num  8 8 8 8 8 8 8 8 8 8\n",
            " $ x3: chr  \"a\" \"b\" \"c\" \"d\" ...\n"
          ],
          "name": "stdout"
        }
      ]
    },
    {
      "cell_type": "code",
      "metadata": {
        "id": "DIR3SmpmaXpY",
        "colab": {
          "base_uri": "https://localhost:8080/",
          "height": 841
        },
        "outputId": "d8d37c9d-f9c0-4b6a-8a3e-a9f0d2b7010b"
      },
      "source": [
        "#Leer bases de datos\n",
        "dureza <- read.csv(\"/content/sample_data/DurezaPintura.csv\", header = TRUE, sep=\";\")\n",
        "dureza\n"
      ],
      "execution_count": 62,
      "outputs": [
        {
          "output_type": "display_data",
          "data": {
            "text/plain": [
              "   Pintura  Dureza Temp Operador\n",
              "1  Mezcla 2 14,9   30,3 1       \n",
              "2  Mezcla 3 13     30,9 2       \n",
              "3  Mezcla 4 15     30,5 2       \n",
              "4  Mezcla 1 17     29,4 3       \n",
              "5  Mezcla 1 13,9   30   3       \n",
              "6  Mezcla 3 16,4   29,6 1       \n",
              "7  Mezcla 1 10,4   29,6 2       \n",
              "8  Mezcla 2 3,2    29,9 2       \n",
              "9  Mezcla 2 1,9    28,9 2       \n",
              "10 Mezcla 2 7,3    28,6 1       \n",
              "11 Mezcla 4 17,8   30,8 3       \n",
              "12 Mezcla 2 9,6    30,8 3       \n",
              "13 Mezcla 4 22,9   28,9 1       \n",
              "14 Mezcla 4 17,4   30,6 3       \n",
              "15 Mezcla 3 13,3   29,8 3       \n",
              "16 Mezcla 1 19,3   30   1       \n",
              "17 Mezcla 1 16,1   29,9 3       \n",
              "18 Mezcla 3 6,5    30,6 2       \n",
              "19 Mezcla 1 11,7   30,1 3       \n",
              "20 Mezcla 4 16,9   30,7 3       \n",
              "21 Mezcla 4 18,4   29,9 1       \n",
              "22 Mezcla 3 11,9   29,5 2       \n",
              "23 Mezcla 2 14,5   29,9 1       \n",
              "24 Mezcla 3 16,8   29,9 3       "
            ],
            "text/latex": "A data.frame: 24 × 4\n\\begin{tabular}{llll}\n Pintura & Dureza & Temp & Operador\\\\\n <chr> & <chr> & <chr> & <int>\\\\\n\\hline\n\t Mezcla 2 & 14,9 & 30,3 & 1\\\\\n\t Mezcla 3 & 13   & 30,9 & 2\\\\\n\t Mezcla 4 & 15   & 30,5 & 2\\\\\n\t Mezcla 1 & 17   & 29,4 & 3\\\\\n\t Mezcla 1 & 13,9 & 30   & 3\\\\\n\t Mezcla 3 & 16,4 & 29,6 & 1\\\\\n\t Mezcla 1 & 10,4 & 29,6 & 2\\\\\n\t Mezcla 2 & 3,2  & 29,9 & 2\\\\\n\t Mezcla 2 & 1,9  & 28,9 & 2\\\\\n\t Mezcla 2 & 7,3  & 28,6 & 1\\\\\n\t Mezcla 4 & 17,8 & 30,8 & 3\\\\\n\t Mezcla 2 & 9,6  & 30,8 & 3\\\\\n\t Mezcla 4 & 22,9 & 28,9 & 1\\\\\n\t Mezcla 4 & 17,4 & 30,6 & 3\\\\\n\t Mezcla 3 & 13,3 & 29,8 & 3\\\\\n\t Mezcla 1 & 19,3 & 30   & 1\\\\\n\t Mezcla 1 & 16,1 & 29,9 & 3\\\\\n\t Mezcla 3 & 6,5  & 30,6 & 2\\\\\n\t Mezcla 1 & 11,7 & 30,1 & 3\\\\\n\t Mezcla 4 & 16,9 & 30,7 & 3\\\\\n\t Mezcla 4 & 18,4 & 29,9 & 1\\\\\n\t Mezcla 3 & 11,9 & 29,5 & 2\\\\\n\t Mezcla 2 & 14,5 & 29,9 & 1\\\\\n\t Mezcla 3 & 16,8 & 29,9 & 3\\\\\n\\end{tabular}\n",
            "text/markdown": "\nA data.frame: 24 × 4\n\n| Pintura &lt;chr&gt; | Dureza &lt;chr&gt; | Temp &lt;chr&gt; | Operador &lt;int&gt; |\n|---|---|---|---|\n| Mezcla 2 | 14,9 | 30,3 | 1 |\n| Mezcla 3 | 13   | 30,9 | 2 |\n| Mezcla 4 | 15   | 30,5 | 2 |\n| Mezcla 1 | 17   | 29,4 | 3 |\n| Mezcla 1 | 13,9 | 30   | 3 |\n| Mezcla 3 | 16,4 | 29,6 | 1 |\n| Mezcla 1 | 10,4 | 29,6 | 2 |\n| Mezcla 2 | 3,2  | 29,9 | 2 |\n| Mezcla 2 | 1,9  | 28,9 | 2 |\n| Mezcla 2 | 7,3  | 28,6 | 1 |\n| Mezcla 4 | 17,8 | 30,8 | 3 |\n| Mezcla 2 | 9,6  | 30,8 | 3 |\n| Mezcla 4 | 22,9 | 28,9 | 1 |\n| Mezcla 4 | 17,4 | 30,6 | 3 |\n| Mezcla 3 | 13,3 | 29,8 | 3 |\n| Mezcla 1 | 19,3 | 30   | 1 |\n| Mezcla 1 | 16,1 | 29,9 | 3 |\n| Mezcla 3 | 6,5  | 30,6 | 2 |\n| Mezcla 1 | 11,7 | 30,1 | 3 |\n| Mezcla 4 | 16,9 | 30,7 | 3 |\n| Mezcla 4 | 18,4 | 29,9 | 1 |\n| Mezcla 3 | 11,9 | 29,5 | 2 |\n| Mezcla 2 | 14,5 | 29,9 | 1 |\n| Mezcla 3 | 16,8 | 29,9 | 3 |\n\n",
            "text/html": [
              "<table class=\"dataframe\">\n",
              "<caption>A data.frame: 24 × 4</caption>\n",
              "<thead>\n",
              "\t<tr><th scope=col>Pintura</th><th scope=col>Dureza</th><th scope=col>Temp</th><th scope=col>Operador</th></tr>\n",
              "\t<tr><th scope=col>&lt;chr&gt;</th><th scope=col>&lt;chr&gt;</th><th scope=col>&lt;chr&gt;</th><th scope=col>&lt;int&gt;</th></tr>\n",
              "</thead>\n",
              "<tbody>\n",
              "\t<tr><td>Mezcla 2</td><td>14,9</td><td>30,3</td><td>1</td></tr>\n",
              "\t<tr><td>Mezcla 3</td><td>13  </td><td>30,9</td><td>2</td></tr>\n",
              "\t<tr><td>Mezcla 4</td><td>15  </td><td>30,5</td><td>2</td></tr>\n",
              "\t<tr><td>Mezcla 1</td><td>17  </td><td>29,4</td><td>3</td></tr>\n",
              "\t<tr><td>Mezcla 1</td><td>13,9</td><td>30  </td><td>3</td></tr>\n",
              "\t<tr><td>Mezcla 3</td><td>16,4</td><td>29,6</td><td>1</td></tr>\n",
              "\t<tr><td>Mezcla 1</td><td>10,4</td><td>29,6</td><td>2</td></tr>\n",
              "\t<tr><td>Mezcla 2</td><td>3,2 </td><td>29,9</td><td>2</td></tr>\n",
              "\t<tr><td>Mezcla 2</td><td>1,9 </td><td>28,9</td><td>2</td></tr>\n",
              "\t<tr><td>Mezcla 2</td><td>7,3 </td><td>28,6</td><td>1</td></tr>\n",
              "\t<tr><td>Mezcla 4</td><td>17,8</td><td>30,8</td><td>3</td></tr>\n",
              "\t<tr><td>Mezcla 2</td><td>9,6 </td><td>30,8</td><td>3</td></tr>\n",
              "\t<tr><td>Mezcla 4</td><td>22,9</td><td>28,9</td><td>1</td></tr>\n",
              "\t<tr><td>Mezcla 4</td><td>17,4</td><td>30,6</td><td>3</td></tr>\n",
              "\t<tr><td>Mezcla 3</td><td>13,3</td><td>29,8</td><td>3</td></tr>\n",
              "\t<tr><td>Mezcla 1</td><td>19,3</td><td>30  </td><td>1</td></tr>\n",
              "\t<tr><td>Mezcla 1</td><td>16,1</td><td>29,9</td><td>3</td></tr>\n",
              "\t<tr><td>Mezcla 3</td><td>6,5 </td><td>30,6</td><td>2</td></tr>\n",
              "\t<tr><td>Mezcla 1</td><td>11,7</td><td>30,1</td><td>3</td></tr>\n",
              "\t<tr><td>Mezcla 4</td><td>16,9</td><td>30,7</td><td>3</td></tr>\n",
              "\t<tr><td>Mezcla 4</td><td>18,4</td><td>29,9</td><td>1</td></tr>\n",
              "\t<tr><td>Mezcla 3</td><td>11,9</td><td>29,5</td><td>2</td></tr>\n",
              "\t<tr><td>Mezcla 2</td><td>14,5</td><td>29,9</td><td>1</td></tr>\n",
              "\t<tr><td>Mezcla 3</td><td>16,8</td><td>29,9</td><td>3</td></tr>\n",
              "</tbody>\n",
              "</table>\n"
            ]
          },
          "metadata": {
            "tags": []
          }
        }
      ]
    },
    {
      "cell_type": "code",
      "metadata": {
        "id": "rNK2aBuvabjt",
        "colab": {
          "base_uri": "https://localhost:8080/",
          "height": 539
        },
        "outputId": "d5b71fe4-e726-4489-a033-006792c425bc"
      },
      "source": [
        "\n",
        "#Base de datos Iris\n",
        "#help(iris)\n",
        "#numero de filas y columnas de la basede datos\n",
        "#dim(iris)\n",
        "#names(iris)\n",
        "#head(iris,7)\n",
        "#summary(iris)\n",
        "names(iris)\n",
        "#attach(iris)\n",
        "hist(Sepal.Length)\n",
        "#H0: x~N\n",
        "#H1:NO x~N\n",
        "#alfa=0.05\n",
        "shapiro.test(Sepal.Length)"
      ],
      "execution_count": 50,
      "outputs": [
        {
          "output_type": "display_data",
          "data": {
            "text/plain": [
              "[1] \"Sepal.Length\" \"Sepal.Width\"  \"Petal.Length\" \"Petal.Width\"  \"Species\"     "
            ],
            "text/latex": "\\begin{enumerate*}\n\\item 'Sepal.Length'\n\\item 'Sepal.Width'\n\\item 'Petal.Length'\n\\item 'Petal.Width'\n\\item 'Species'\n\\end{enumerate*}\n",
            "text/markdown": "1. 'Sepal.Length'\n2. 'Sepal.Width'\n3. 'Petal.Length'\n4. 'Petal.Width'\n5. 'Species'\n\n\n",
            "text/html": [
              "<style>\n",
              ".list-inline {list-style: none; margin:0; padding: 0}\n",
              ".list-inline>li {display: inline-block}\n",
              ".list-inline>li:not(:last-child)::after {content: \"\\00b7\"; padding: 0 .5ex}\n",
              "</style>\n",
              "<ol class=list-inline><li>'Sepal.Length'</li><li>'Sepal.Width'</li><li>'Petal.Length'</li><li>'Petal.Width'</li><li>'Species'</li></ol>\n"
            ]
          },
          "metadata": {
            "tags": []
          }
        },
        {
          "output_type": "display_data",
          "data": {
            "text/plain": [
              "\n",
              "\tShapiro-Wilk normality test\n",
              "\n",
              "data:  Sepal.Length\n",
              "W = 0.97609, p-value = 0.01018\n"
            ]
          },
          "metadata": {
            "tags": []
          }
        },
        {
          "output_type": "display_data",
          "data": {
            "image/png": "[encoded data removed]",
            "text/plain": [
              "Plot with title “Histogram of Sepal.Length”"
            ]
          },
          "metadata": {
            "tags": [],
            "image/png": {
              "width": 420,
              "height": 420
            }
          }
        }
      ]
    },
    {
      "cell_type": "code",
      "metadata": {
        "id": "QTsKERtEaeRt",
        "colab": {
          "base_uri": "https://localhost:8080/",
          "height": 908
        },
        "outputId": "fcb6f768-9351-4fe6-e9ff-83d4a096842a"
      },
      "source": [
        "tb<-table(Species)\n",
        "tb\n",
        "barplot(tb)\n",
        "pie(tb)"
      ],
      "execution_count": 56,
      "outputs": [
        {
          "output_type": "display_data",
          "data": {
            "text/plain": [
              "Species\n",
              "    setosa versicolor  virginica \n",
              "        50         50         50 "
            ]
          },
          "metadata": {
            "tags": []
          }
        },
        {
          "output_type": "display_data",
          "data": {
            "image/png": "[encoded data removed]",
            "text/plain": [
              "plot without title"
            ]
          },
          "metadata": {
            "tags": [],
            "image/png": {
              "width": 420,
              "height": 420
            }
          }
        },
        {
          "output_type": "display_data",
          "data": {
            "image/png": "[encoded data removed]",
            "text/plain": [
              "plot without title"
            ]
          },
          "metadata": {
            "tags": [],
            "image/png": {
              "width": 420,
              "height": 420
            }
          }
        }
      ]
    },
    {
      "cell_type": "code",
      "metadata": {
        "id": "d3Pe0xfeagvk"
      },
      "source": [
        ""
      ],
      "execution_count": null,
      "outputs": []
    },
    {
      "cell_type": "markdown",
      "metadata": {
        "id": "c5S-CeR7bs77"
      },
      "source": [
        ""
      ]
    },
    {
      "cell_type": "markdown",
      "metadata": {
        "id": "i9jfQYzuXxEF"
      },
      "source": [
        "#Inferencia Estadistica "
      ]
    },
    {
      "cell_type": "markdown",
      "metadata": {
        "id": "ADyn8WT8WMZn"
      },
      "source": [
        "Estimación de la media\n",
        "\n"
      ]
    },
    {
      "cell_type": "code",
      "metadata": {
        "id": "zxhhH2AnYQ5M"
      },
      "source": [
        "n<-125\n",
        "md<-1.179\n",
        "SS<-0.00071\n",
        "S<-sqrt(SS)"
      ],
      "execution_count": 52,
      "outputs": []
    },
    {
      "cell_type": "code",
      "metadata": {
        "id": "bRS3ip59YX26"
      },
      "source": [
        "#Quantil de la tstuden\n",
        "t<-qt(0.975,n-1)"
      ],
      "execution_count": 53,
      "outputs": []
    },
    {
      "cell_type": "code",
      "metadata": {
        "colab": {
          "base_uri": "https://localhost:8080/",
          "height": 34
        },
        "id": "KNEPRwDuYYmW",
        "outputId": "d80bffee-ab69-4d05-f358-82032e685991"
      },
      "source": [
        "#error de estimación\n",
        "t*S/sqrt(n)"
      ],
      "execution_count": 54,
      "outputs": [
        {
          "output_type": "display_data",
          "data": {
            "text/plain": [
              "[1] 0.004717169"
            ],
            "text/latex": "0.0047171689338339",
            "text/markdown": "0.0047171689338339",
            "text/html": [
              "0.0047171689338339"
            ]
          },
          "metadata": {
            "tags": []
          }
        }
      ]
    },
    {
      "cell_type": "code",
      "metadata": {
        "colab": {
          "base_uri": "https://localhost:8080/",
          "height": 34
        },
        "id": "MjjQ-Re5Yfki",
        "outputId": "061b17e0-91c3-4bed-e86b-f45f9e858c1b"
      },
      "source": [
        "li<-md-t*S/sqrt(n)\n",
        "ls<-md+t*S/sqrt(n)\n",
        "c(li,ls)"
      ],
      "execution_count": 55,
      "outputs": [
        {
          "output_type": "display_data",
          "data": {
            "text/plain": [
              "[1] 1.174283 1.183717"
            ],
            "text/latex": "\\begin{enumerate*}\n\\item 1.17428283106617\n\\item 1.18371716893383\n\\end{enumerate*}\n",
            "text/markdown": "1. 1.17428283106617\n2. 1.18371716893383\n\n\n",
            "text/html": [
              "<style>\n",
              ".list-inline {list-style: none; margin:0; padding: 0}\n",
              ".list-inline>li {display: inline-block}\n",
              ".list-inline>li:not(:last-child)::after {content: \"\\00b7\"; padding: 0 .5ex}\n",
              "</style>\n",
              "<ol class=list-inline><li>1.17428283106617</li><li>1.18371716893383</li></ol>\n"
            ]
          },
          "metadata": {
            "tags": []
          }
        }
      ]
    },
    {
      "cell_type": "markdown",
      "metadata": {
        "id": "PH-f8r6Obt2h"
      },
      "source": [
        "Ejercicio 2"
      ]
    },
    {
      "cell_type": "code",
      "metadata": {
        "id": "Woda-fOFb1oX"
      },
      "source": [
        "rendimiento<-c(96.11, 91.06, 93.38, 88.52, 89.57, 92.63, 85.20, 91.41, 89.79, 92.62)"
      ],
      "execution_count": 12,
      "outputs": []
    },
    {
      "cell_type": "code",
      "metadata": {
        "id": "Xm6K3oeQcev5"
      },
      "source": [
        "mdr<-mean(rendimiento)\n",
        "SSr<-var(rendimiento)\n",
        "Sr<-sqrt(SSr)\n",
        "nr<-length(rendimiento)\n",
        "t<-qt(0.975,nr-1)"
      ],
      "execution_count": 15,
      "outputs": []
    },
    {
      "cell_type": "code",
      "metadata": {
        "colab": {
          "base_uri": "https://localhost:8080/",
          "height": 34
        },
        "id": "aNFaLoP-dkYj",
        "outputId": "18c6cdfb-c085-4f88-a2bb-05b986582651"
      },
      "source": [
        "li<-mdr-t*Sr/sqrt(nr)\n",
        "s<-mdr+t*Sr/sqrt(nr)\n",
        "c(li,ls)"
      ],
      "execution_count": 16,
      "outputs": [
        {
          "output_type": "display_data",
          "data": {
            "text/plain": [
              "[1] 88.889291  1.183717"
            ],
            "text/latex": "\\begin{enumerate*}\n\\item 88.8892909479841\n\\item 1.18371716893383\n\\end{enumerate*}\n",
            "text/markdown": "1. 88.8892909479841\n2. 1.18371716893383\n\n\n",
            "text/html": [
              "<style>\n",
              ".list-inline {list-style: none; margin:0; padding: 0}\n",
              ".list-inline>li {display: inline-block}\n",
              ".list-inline>li:not(:last-child)::after {content: \"\\00b7\"; padding: 0 .5ex}\n",
              "</style>\n",
              "<ol class=list-inline><li>88.8892909479841</li><li>1.18371716893383</li></ol>\n"
            ]
          },
          "metadata": {
            "tags": []
          }
        }
      ]
    },
    {
      "cell_type": "code",
      "metadata": {
        "id": "n2FjD1Tfeajs"
      },
      "source": [
        "x2Inf<-qchisq(0.025,9)\n",
        "x2Sup<-qchisq(0.975,9)"
      ],
      "execution_count": 22,
      "outputs": []
    },
    {
      "cell_type": "code",
      "metadata": {
        "colab": {
          "base_uri": "https://localhost:8080/",
          "height": 34
        },
        "id": "sk72W9yIgkrb",
        "outputId": "2695e22a-1b0d-4d62-ba9e-88f872483825"
      },
      "source": [
        "li<-(nr-1)*SSr/x2Sup\n",
        "ls<-(nr-1)*SSr/x2Inf\n",
        "c(li,ls)"
      ],
      "execution_count": 18,
      "outputs": [
        {
          "output_type": "display_data",
          "data": {
            "text/plain": [
              "[1]  4.232848 29.818102"
            ],
            "text/latex": "\\begin{enumerate*}\n\\item 4.23284828224364\n\\item 29.8181021665895\n\\end{enumerate*}\n",
            "text/markdown": "1. 4.23284828224364\n2. 29.8181021665895\n\n\n",
            "text/html": [
              "<style>\n",
              ".list-inline {list-style: none; margin:0; padding: 0}\n",
              ".list-inline>li {display: inline-block}\n",
              ".list-inline>li:not(:last-child)::after {content: \"\\00b7\"; padding: 0 .5ex}\n",
              "</style>\n",
              "<ol class=list-inline><li>4.23284828224364</li><li>29.8181021665895</li></ol>\n"
            ]
          },
          "metadata": {
            "tags": []
          }
        }
      ]
    },
    {
      "cell_type": "code",
      "metadata": {
        "id": "k1WpYQ1rpOGy"
      },
      "source": [
        "#Estimar la proporcion \n",
        "N<-2000\n",
        "n<-100\n",
        "p<-5/n\n",
        "z<-qnorm(0.975)"
      ],
      "execution_count": 19,
      "outputs": []
    },
    {
      "cell_type": "code",
      "metadata": {
        "colab": {
          "base_uri": "https://localhost:8080/",
          "height": 34
        },
        "id": "ZVPthZS4rmFa",
        "outputId": "584fa578-ee6a-4cd7-c8eb-14f585dda7b4"
      },
      "source": [
        "li_p<-p-z*sqrt(p*(1-p)/n)\n",
        "ls_p<-p+z*sqrt(p*(1-p)/n)\n",
        "round(c(li_p,ls_p)*2000)"
      ],
      "execution_count": 20,
      "outputs": [
        {
          "output_type": "display_data",
          "data": {
            "text/plain": [
              "[1]  15 185"
            ],
            "text/latex": "\\begin{enumerate*}\n\\item 15\n\\item 185\n\\end{enumerate*}\n",
            "text/markdown": "1. 15\n2. 185\n\n\n",
            "text/html": [
              "<style>\n",
              ".list-inline {list-style: none; margin:0; padding: 0}\n",
              ".list-inline>li {display: inline-block}\n",
              ".list-inline>li:not(:last-child)::after {content: \"\\00b7\"; padding: 0 .5ex}\n",
              "</style>\n",
              "<ol class=list-inline><li>15</li><li>185</li></ol>\n"
            ]
          },
          "metadata": {
            "tags": []
          }
        }
      ]
    },
    {
      "cell_type": "code",
      "metadata": {
        "id": "6qkESS_Iu_j2",
        "colab": {
          "base_uri": "https://localhost:8080/",
          "height": 34
        },
        "outputId": "92d762a5-65b1-4ac0-f72c-0d59de30149f"
      },
      "source": [
        "#Prueba de hipótesis de la media\n",
        "#H0:mu=50.1\n",
        "#H1:mu<50.1\n",
        "#alfa=0.05\n",
        "n<-15\n",
        "md<-49.4\n",
        "SS<-1.2\n",
        "S<-sqrt(SS)\n",
        "md_H0<-50.1\n",
        "qt(0.05,14)"
      ],
      "execution_count": 23,
      "outputs": [
        {
          "output_type": "display_data",
          "data": {
            "text/plain": [
              "[1] -1.76131"
            ],
            "text/latex": "-1.76131013577489",
            "text/markdown": "-1.76131013577489",
            "text/html": [
              "-1.76131013577489"
            ]
          },
          "metadata": {
            "tags": []
          }
        }
      ]
    },
    {
      "cell_type": "code",
      "metadata": {
        "id": "wci9csgm43v_",
        "colab": {
          "base_uri": "https://localhost:8080/",
          "height": 34
        },
        "outputId": "ecadc3d3-c1e0-4900-da35-4dc36f9ef75f"
      },
      "source": [
        "pivote<-(md-md_H0)/(S/sqrt(n))\n",
        "#Estadístico calculado\n",
        "pivote\n",
        "#pvalor\n",
        "pt(pivote,14)*100"
      ],
      "execution_count": 24,
      "outputs": [
        {
          "output_type": "display_data",
          "data": {
            "text/plain": [
              "[1] -2.474874"
            ],
            "text/latex": "-2.47487373415293",
            "text/markdown": "-2.47487373415293",
            "text/html": [
              "-2.47487373415293"
            ]
          },
          "metadata": {
            "tags": []
          }
        }
      ]
    },
    {
      "cell_type": "code",
      "metadata": {
        "id": "fLTMx9M444Ib",
        "colab": {
          "base_uri": "https://localhost:8080/",
          "height": 34
        },
        "outputId": "866b9d56-886a-40eb-86b7-d8f3fca8c47e"
      },
      "source": [
        "#Prueba para la varianza\n",
        "SSH0<-0.5\n",
        "SS<-1.2\n",
        "n<-15\n",
        "qchisq(0.95,14)"
      ],
      "execution_count": 25,
      "outputs": [
        {
          "output_type": "display_data",
          "data": {
            "text/plain": [
              "[1] 23.68479"
            ],
            "text/latex": "23.6847913048406",
            "text/markdown": "23.6847913048406",
            "text/html": [
              "23.6847913048406"
            ]
          },
          "metadata": {
            "tags": []
          }
        }
      ]
    },
    {
      "cell_type": "code",
      "metadata": {
        "id": "s9WOO-O144UF",
        "colab": {
          "base_uri": "https://localhost:8080/",
          "height": 51
        },
        "outputId": "0750d2a6-50eb-47ba-c268-04d5457659af"
      },
      "source": [
        "pivote<-(n-1)*SS/SSH0\n",
        "pivote\n",
        "(1-pchisq(pivote,14))*100"
      ],
      "execution_count": 26,
      "outputs": [
        {
          "output_type": "display_data",
          "data": {
            "text/plain": [
              "[1] 33.6"
            ],
            "text/latex": "33.6",
            "text/markdown": "33.6",
            "text/html": [
              "33.6"
            ]
          },
          "metadata": {
            "tags": []
          }
        },
        {
          "output_type": "display_data",
          "data": {
            "text/plain": [
              "[1] 0.2358727"
            ],
            "text/latex": "0.235872748794164",
            "text/markdown": "0.235872748794164",
            "text/html": [
              "0.235872748794164"
            ]
          },
          "metadata": {
            "tags": []
          }
        }
      ]
    },
    {
      "cell_type": "code",
      "metadata": {
        "id": "UrLMU2vn44X5",
        "colab": {
          "base_uri": "https://localhost:8080/",
          "height": 522
        },
        "outputId": "63ce2a16-fd32-41c6-ee99-e8ba8d4f4d42"
      },
      "source": [
        "#Comparar medias\n",
        "centrifugdorax<-c(4714,4601,4696,4896,4905,4870,4987,5144,3962,4066,4561,4626,4924)\n",
        "mdx<-mean(centrifugdorax)\n",
        "ssx<-var(centrifugdorax)\n",
        "nx<-length(centrifugdorax)\n",
        "hist(centrifugdorax)\n",
        "shapiro.test(centrifugdorax)"
      ],
      "execution_count": 27,
      "outputs": [
        {
          "output_type": "display_data",
          "data": {
            "text/plain": [
              "\n",
              "\tShapiro-Wilk normality test\n",
              "\n",
              "data:  centrifugdorax\n",
              "W = 0.88133, p-value = 0.07433\n"
            ]
          },
          "metadata": {
            "tags": []
          }
        },
        {
          "output_type": "display_data",
          "data": {
            "image/png": "[encoded data removed]",
            "text/plain": [
              "Plot with title “Histogram of centrifugdorax”"
            ]
          },
          "metadata": {
            "tags": [],
            "image/png": {
              "width": 420,
              "height": 420
            }
          }
        }
      ]
    },
    {
      "cell_type": "code",
      "metadata": {
        "id": "z80QwDI244ao",
        "colab": {
          "base_uri": "https://localhost:8080/",
          "height": 522
        },
        "outputId": "8a7844f5-36a8-4b77-ecc0-2f867641b69f"
      },
      "source": [
        "centrifugdoray<-c(4295,4271,4326,4530,4618,4779,4752,4744,3764,3797,4401,4339,4700)\n",
        "mdy<-mean(centrifugdoray)\n",
        "ssy<-var(centrifugdoray)\n",
        "ny<-length(centrifugdoray)\n",
        "hist(centrifugdoray)\n",
        "shapiro.test(centrifugdoray)\n"
      ],
      "execution_count": 28,
      "outputs": [
        {
          "output_type": "display_data",
          "data": {
            "text/plain": [
              "\n",
              "\tShapiro-Wilk normality test\n",
              "\n",
              "data:  centrifugdoray\n",
              "W = 0.8792, p-value = 0.06956\n"
            ]
          },
          "metadata": {
            "tags": []
          }
        },
        {
          "output_type": "display_data",
          "data": {
            "image/png": "[encoded data removed]",
            "text/plain": [
              "Plot with title “Histogram of centrifugdoray”"
            ]
          },
          "metadata": {
            "tags": [],
            "image/png": {
              "width": 420,
              "height": 420
            }
          }
        }
      ]
    },
    {
      "cell_type": "code",
      "metadata": {
        "colab": {
          "base_uri": "https://localhost:8080/",
          "height": 34
        },
        "id": "qD6NckfY553l",
        "outputId": "511e156c-80ed-402d-90ba-e5c30298e45a"
      },
      "source": [
        "#Estimador de la varianza comÃºn\n",
        "ssp<-((nx-1)*ssx+(ny-1)*ssy)/(nx+ny-2)\n",
        "ssp\n"
      ],
      "execution_count": 29,
      "outputs": [
        {
          "output_type": "display_data",
          "data": {
            "text/plain": [
              "[1] 115124.4"
            ],
            "text/latex": "115124.416666667",
            "text/markdown": "115124.416666667",
            "text/html": [
              "115124.416666667"
            ]
          },
          "metadata": {
            "tags": []
          }
        }
      ]
    },
    {
      "cell_type": "code",
      "metadata": {
        "colab": {
          "base_uri": "https://localhost:8080/",
          "height": 34
        },
        "id": "vNCC0R_e8kJ3",
        "outputId": "c0d79ba7-8305-4c15-d168-14d14fa25376"
      },
      "source": [
        "pivote<-(mdx-mdy)/(sqrt(ssp)*sqrt(1/nx+1/ny))\n",
        "pivote"
      ],
      "execution_count": 30,
      "outputs": [
        {
          "output_type": "display_data",
          "data": {
            "text/plain": [
              "[1] 2.101617"
            ],
            "text/latex": "2.10161654722953",
            "text/markdown": "2.10161654722953",
            "text/html": [
              "2.10161654722953"
            ]
          },
          "metadata": {
            "tags": []
          }
        }
      ]
    },
    {
      "cell_type": "code",
      "metadata": {
        "colab": {
          "base_uri": "https://localhost:8080/",
          "height": 34
        },
        "id": "Oa15m2PM9i-i",
        "outputId": "70b70d2a-f609-4972-b586-bbba03dc4bc5"
      },
      "source": [
        "c(qt(0.025,nx+ny-2),qt(0.975,nx+ny-2))"
      ],
      "execution_count": 31,
      "outputs": [
        {
          "output_type": "display_data",
          "data": {
            "text/plain": [
              "[1] -2.063899  2.063899"
            ],
            "text/latex": "\\begin{enumerate*}\n\\item -2.06389856162803\n\\item 2.06389856162803\n\\end{enumerate*}\n",
            "text/markdown": "1. -2.06389856162803\n2. 2.06389856162803\n\n\n",
            "text/html": [
              "<style>\n",
              ".list-inline {list-style: none; margin:0; padding: 0}\n",
              ".list-inline>li {display: inline-block}\n",
              ".list-inline>li:not(:last-child)::after {content: \"\\00b7\"; padding: 0 .5ex}\n",
              "</style>\n",
              "<ol class=list-inline><li>-2.06389856162803</li><li>2.06389856162803</li></ol>\n"
            ]
          },
          "metadata": {
            "tags": []
          }
        }
      ]
    },
    {
      "cell_type": "code",
      "metadata": {
        "id": "T6wk5Rd19t0w",
        "colab": {
          "base_uri": "https://localhost:8080/",
          "height": 34
        },
        "outputId": "5365c7e5-0d08-4214-c3ee-6d54e7885394"
      },
      "source": [
        "(1-pt(pivote,nx+ny-2))*2"
      ],
      "execution_count": 32,
      "outputs": [
        {
          "output_type": "display_data",
          "data": {
            "text/plain": [
              "[1] 0.04626676"
            ],
            "text/latex": "0.0462667604949694",
            "text/markdown": "0.0462667604949694",
            "text/html": [
              "0.0462667604949694"
            ]
          },
          "metadata": {
            "tags": []
          }
        }
      ]
    },
    {
      "cell_type": "code",
      "metadata": {
        "colab": {
          "base_uri": "https://localhost:8080/",
          "height": 204
        },
        "id": "OqI9F06n-kYl",
        "outputId": "b3be6d75-15f4-4a00-e923-1d75b19c7e6d"
      },
      "source": [
        "#H0:mu1=mu2\n",
        "#H1:mu1<>mu2\n",
        "#alfa=0.05\n",
        "t.test(CentrifugadoraX,CentrifugadoraY)"
      ],
      "execution_count": null,
      "outputs": [
        {
          "output_type": "display_data",
          "data": {
            "text/plain": [
              "\n",
              "\tWelch Two Sample t-test\n",
              "\n",
              "data:  CentrifugadoraX and CentrifugadoraY\n",
              "t = 2.1016, df = 23.983, p-value = 0.04627\n",
              "alternative hypothesis: true difference in means is not equal to 0\n",
              "95 percent confidence interval:\n",
              "   5.009104 554.375512\n",
              "sample estimates:\n",
              "mean of x mean of y \n",
              " 4688.615  4408.923 \n"
            ]
          },
          "metadata": {
            "tags": []
          }
        }
      ]
    },
    {
      "cell_type": "code",
      "metadata": {
        "id": "Bv0HHx3kED6S"
      },
      "source": [
        "Bascula1<-c(11.23,14.36,8.33,10.50,23.42,9.15,13.47,6.47,12.40,19.38)\n",
        "Bascula2<-c(11.27,14.41,8.35,10.52,23.41,9.17,13.52,6.46,12.45,19.35)\n"
      ],
      "execution_count": null,
      "outputs": []
    },
    {
      "cell_type": "code",
      "metadata": {
        "colab": {
          "base_uri": "https://localhost:8080/",
          "height": 1000
        },
        "id": "ELJA9vL3EVca",
        "outputId": "abc6b822-10c6-49c4-c5a5-252d3dd7b778"
      },
      "source": [
        "#H0:mB1=mB2\n",
        "#H1:mB1<>mB2\n",
        "#alfa=0.05\n",
        "hist(Bascula1)\n",
        "hist(Bascula2)\n",
        "shapiro.test (Bascula1)\n",
        "shapiro.test (Bascula2)\n",
        "\n",
        "t.test(Bascula1,Bascula2,paired-TRUE)\n"
      ],
      "execution_count": null,
      "outputs": [
        {
          "output_type": "display_data",
          "data": {
            "image/png": "[encoded data removed]",
            "text/plain": [
              "Plot with title “Histogram of Bascula1”"
            ]
          },
          "metadata": {
            "tags": [],
            "image/png": {
              "width": 420,
              "height": 420
            }
          }
        },
        {
          "output_type": "display_data",
          "data": {
            "text/plain": [
              "\n",
              "\tShapiro-Wilk normality test\n",
              "\n",
              "data:  Bascula1\n",
              "W = 0.92277, p-value = 0.3807\n"
            ]
          },
          "metadata": {
            "tags": []
          }
        },
        {
          "output_type": "display_data",
          "data": {
            "text/plain": [
              "\n",
              "\tShapiro-Wilk normality test\n",
              "\n",
              "data:  Bascula2\n",
              "W = 0.92536, p-value = 0.4038\n"
            ]
          },
          "metadata": {
            "tags": []
          }
        },
        {
          "output_type": "error",
          "ename": "ERROR",
          "evalue": "ignored",
          "traceback": [
            "Error in match.arg(alternative): object 'paired' not found\nTraceback:\n",
            "1. t.test(Bascula1, Bascula2, paired - TRUE)",
            "2. t.test.default(Bascula1, Bascula2, paired - TRUE)",
            "3. match.arg(alternative)"
          ]
        },
        {
          "output_type": "display_data",
          "data": {
            "image/png": "[encoded data removed]",
            "text/plain": [
              "Plot with title “Histogram of Bascula2”"
            ]
          },
          "metadata": {
            "tags": [],
            "image/png": {
              "width": 420,
              "height": 420
            }
          }
        }
      ]
    },
    {
      "cell_type": "code",
      "metadata": {
        "id": "G1ANnbD-InlR"
      },
      "source": [
        "#Poblaciones pareadas\n",
        "cofre<-read.csv('https://raw.githubusercontent.com/Emax1/DISE-O-DE-EXPERIMENTOS/main/COFRE_AUTOS.csv',header = TRUE,sep=';')\n"
      ],
      "execution_count": 33,
      "outputs": []
    },
    {
      "cell_type": "code",
      "metadata": {
        "id": "JNrKPiacJfSw",
        "colab": {
          "base_uri": "https://localhost:8080/",
          "height": 51
        },
        "outputId": "7273dd16-789d-434f-e138-0e8153bc1c0b"
      },
      "source": [
        "dim(cofre)\n",
        "names(cofre)\n",
        "#cofre\n",
        "#detach (iris)\n",
        "attach(cofre)"
      ],
      "execution_count": 36,
      "outputs": [
        {
          "output_type": "display_data",
          "data": {
            "text/plain": [
              "[1] 10  6"
            ],
            "text/latex": "\\begin{enumerate*}\n\\item 10\n\\item 6\n\\end{enumerate*}\n",
            "text/markdown": "1. 10\n2. 6\n\n\n",
            "text/html": [
              "<style>\n",
              ".list-inline {list-style: none; margin:0; padding: 0}\n",
              ".list-inline>li {display: inline-block}\n",
              ".list-inline>li:not(:last-child)::after {content: \"\\00b7\"; padding: 0 .5ex}\n",
              "</style>\n",
              "<ol class=list-inline><li>10</li><li>6</li></ol>\n"
            ]
          },
          "metadata": {
            "tags": []
          }
        },
        {
          "output_type": "display_data",
          "data": {
            "text/plain": [
              "[1] \"Bloque\"     \"Día\"        \"Turno\"      \"Bajado\"     \"Levantado\" \n",
              "[6] \"Diferencia\""
            ],
            "text/latex": "\\begin{enumerate*}\n\\item 'Bloque'\n\\item 'Día'\n\\item 'Turno'\n\\item 'Bajado'\n\\item 'Levantado'\n\\item 'Diferencia'\n\\end{enumerate*}\n",
            "text/markdown": "1. 'Bloque'\n2. 'Día'\n3. 'Turno'\n4. 'Bajado'\n5. 'Levantado'\n6. 'Diferencia'\n\n\n",
            "text/html": [
              "<style>\n",
              ".list-inline {list-style: none; margin:0; padding: 0}\n",
              ".list-inline>li {display: inline-block}\n",
              ".list-inline>li:not(:last-child)::after {content: \"\\00b7\"; padding: 0 .5ex}\n",
              "</style>\n",
              "<ol class=list-inline><li>'Bloque'</li><li>'Día'</li><li>'Turno'</li><li>'Bajado'</li><li>'Levantado'</li><li>'Diferencia'</li></ol>\n"
            ]
          },
          "metadata": {
            "tags": []
          }
        }
      ]
    },
    {
      "cell_type": "code",
      "metadata": {
        "colab": {
          "base_uri": "https://localhost:8080/",
          "height": 187
        },
        "id": "PP-NHdKAV1o8",
        "outputId": "16228dfd-4ccf-45f8-b9f9-f92311546a39"
      },
      "source": [
        "shapiro.test(Bajado)\n",
        "shapiro.test(Levantado)"
      ],
      "execution_count": 37,
      "outputs": [
        {
          "output_type": "display_data",
          "data": {
            "text/plain": [
              "\n",
              "\tShapiro-Wilk normality test\n",
              "\n",
              "data:  Bajado\n",
              "W = 0.9822, p-value = 0.9758\n"
            ]
          },
          "metadata": {
            "tags": []
          }
        },
        {
          "output_type": "display_data",
          "data": {
            "text/plain": [
              "\n",
              "\tShapiro-Wilk normality test\n",
              "\n",
              "data:  Levantado\n",
              "W = 0.97295, p-value = 0.9167\n"
            ]
          },
          "metadata": {
            "tags": []
          }
        }
      ]
    },
    {
      "cell_type": "code",
      "metadata": {
        "colab": {
          "base_uri": "https://localhost:8080/",
          "height": 1000
        },
        "id": "aJLC3ds0WEB5",
        "outputId": "2fc21da9-33af-4d46-cdc6-6ced4b92fc7e"
      },
      "source": [
        "boxplot(Bajado,horizontal = TRUE)\n",
        "boxplot(Levantado,horizontal = TRUE)\n",
        "boxplot(Bajado,Levantado)"
      ],
      "execution_count": 38,
      "outputs": [
        {
          "output_type": "display_data",
          "data": {
            "image/png": "[encoded data removed]",
            "text/plain": [
              "plot without title"
            ]
          },
          "metadata": {
            "tags": [],
            "image/png": {
              "width": 420,
              "height": 420
            }
          }
        },
        {
          "output_type": "display_data",
          "data": {
            "image/png": "[encoded data removed]",
            "text/plain": [
              "plot without title"
            ]
          },
          "metadata": {
            "tags": [],
            "image/png": {
              "width": 420,
              "height": 420
            }
          }
        },
        {
          "output_type": "display_data",
          "data": {
            "image/png": "[encoded data removed]",
            "text/plain": [
              "plot without title"
            ]
          },
          "metadata": {
            "tags": [],
            "image/png": {
              "width": 420,
              "height": 420
            }
          }
        }
      ]
    }
  ]
}